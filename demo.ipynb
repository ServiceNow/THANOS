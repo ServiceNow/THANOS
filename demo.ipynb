{
 "cells": [
  {
   "cell_type": "code",
   "execution_count": null,
   "id": "d2a7d0c3",
   "metadata": {},
   "outputs": [],
   "source": [
    "%load_ext autoreload\n",
    "%autoreload 2"
   ]
  },
  {
   "cell_type": "code",
   "execution_count": null,
   "id": "d1e2c759",
   "metadata": {},
   "outputs": [],
   "source": [
    "import thanos\n",
    "from thanos.gen import *\n",
    "from thanos.util import *\n",
    "from thanos.operator import *"
   ]
  },
  {
   "cell_type": "markdown",
   "id": "e920e1ac",
   "metadata": {},
   "source": [
    "Notes: examples that look more like ITOM data"
   ]
  },
  {
   "cell_type": "markdown",
   "id": "2b81353c",
   "metadata": {},
   "source": [
    "## Constant and Random Variables"
   ]
  },
  {
   "cell_type": "code",
   "execution_count": null,
   "id": "fd06b030",
   "metadata": {},
   "outputs": [],
   "source": [
    "a = ConstantVariable(2.0)\n",
    "X = RandomVariable('gamma', seeded_gen(1), 1.0, 2.0)\n",
    "\n",
    "for _ in range(10):\n",
    "    print(a(), X())"
   ]
  },
  {
   "cell_type": "markdown",
   "id": "e4f25190",
   "metadata": {},
   "source": [
    "## Random Seed Management"
   ]
  },
  {
   "cell_type": "code",
   "execution_count": null,
   "id": "b45871c3",
   "metadata": {},
   "outputs": [],
   "source": [
    "b = ConstantVariable(X) # A constant variable from a gamma distribution\n",
    "\n",
    "# variables as iterator generators\n",
    "for _, sample in zip(range(3), b):\n",
    "    print(sample)"
   ]
  },
  {
   "cell_type": "code",
   "execution_count": null,
   "id": "03587a52",
   "metadata": {},
   "outputs": [],
   "source": [
    "b.reseed(seeded_gen(123))\n",
    "for _, sample in zip(range(3), b):\n",
    "    print(sample)"
   ]
  },
  {
   "cell_type": "markdown",
   "id": "a8f3493b",
   "metadata": {},
   "source": [
    "## Composability"
   ]
  },
  {
   "cell_type": "code",
   "execution_count": null,
   "id": "d90f8a61",
   "metadata": {},
   "outputs": [],
   "source": [
    "seed = seeded_gen(123)\n",
    "Y = op(operator.add, \n",
    "       ConstantVariable(RandomVariable('uniform', seed, 0.0, 10.0)), \n",
    "       RandomVariable('gamma', seed, 1.0, 2.0))"
   ]
  },
  {
   "cell_type": "code",
   "execution_count": null,
   "id": "0865ad23",
   "metadata": {},
   "outputs": [],
   "source": [
    "plot_examplesappyl, 3)"
   ]
  },
  {
   "cell_type": "markdown",
   "id": "14784386",
   "metadata": {},
   "source": [
    "## Repeatability"
   ]
  },
  {
   "cell_type": "code",
   "execution_count": null,
   "id": "36995bcb",
   "metadata": {},
   "outputs": [],
   "source": [
    "Y.reset()\n",
    "plot_examples(Y, 2)"
   ]
  },
  {
   "cell_type": "markdown",
   "id": "937d9e66",
   "metadata": {},
   "source": [
    "## Operator Support"
   ]
  },
  {
   "cell_type": "code",
   "execution_count": null,
   "id": "62be40f8",
   "metadata": {},
   "outputs": [],
   "source": [
    "plot_examples(Y.reset() * 2 + 10)"
   ]
  },
  {
   "cell_type": "markdown",
   "id": "efc2f250",
   "metadata": {},
   "source": [
    "## Generation Tree"
   ]
  },
  {
   "cell_type": "code",
   "execution_count": null,
   "id": "faeed0e1",
   "metadata": {},
   "outputs": [],
   "source": [
    "print_optree(Y *2 + 10)"
   ]
  },
  {
   "cell_type": "markdown",
   "id": "fd2c7eda",
   "metadata": {},
   "source": [
    "## Fluent Interface (Pandas-like)"
   ]
  },
  {
   "cell_type": "code",
   "execution_count": null,
   "id": "da367293",
   "metadata": {},
   "outputs": [],
   "source": [
    "Y_smooth = Y.reset().window(60, sliding=True).apply(np.mean)\n",
    "plot_examples(Y_smooth, 2)"
   ]
  },
  {
   "cell_type": "markdown",
   "id": "c892bbb2",
   "metadata": {},
   "source": [
    "## Streaming With Pytorch"
   ]
  },
  {
   "cell_type": "code",
   "execution_count": null,
   "id": "09b57ace",
   "metadata": {},
   "outputs": [],
   "source": [
    "# make this more visual by adding different kinds of series, then injecting the anomalies\n",
    "%matplotlib inline\n",
    "from thanos.SyntheticDataset import *\n",
    "ds = SyntheticDataset(Y_smooth.reset(), seeded_gen(5678))\n",
    "animate_plot(ds)"
   ]
  },
  {
   "cell_type": "markdown",
   "id": "c58343af",
   "metadata": {},
   "source": [
    "# Simple Signals"
   ]
  },
  {
   "cell_type": "markdown",
   "id": "9aff7d4f",
   "metadata": {},
   "source": [
    "## Seasonality"
   ]
  },
  {
   "cell_type": "code",
   "execution_count": null,
   "id": "09d2a09f",
   "metadata": {},
   "outputs": [],
   "source": [
    "seasonal = op(operator.add,\n",
    "              RandomVariable('gamma', seed, 1.0, 1.5), \n",
    "              Seasonality() * ConstantVariable(RandomVariable('uniform', seed, 0.0, 3.0)))\n",
    "plot_examples(seasonal)"
   ]
  },
  {
   "cell_type": "markdown",
   "id": "0009ad03",
   "metadata": {},
   "source": [
    "## Trend"
   ]
  },
  {
   "cell_type": "code",
   "execution_count": null,
   "id": "402a513a",
   "metadata": {},
   "outputs": [],
   "source": [
    "trended = op(operator.add, seasonal, Trend(rate= 1/(60*24)))\n",
    "plot_examples(trended)"
   ]
  },
  {
   "cell_type": "markdown",
   "id": "c386a744",
   "metadata": {},
   "source": [
    "## Business Hours"
   ]
  },
  {
   "cell_type": "code",
   "execution_count": null,
   "id": "c3732db2",
   "metadata": {},
   "outputs": [],
   "source": [
    "daily_smooth = uniop(Seasonality(period = (17-9)*60, phase=today_offset()), np.abs)\n",
    "business = op(mix, Conditional(DateModulation(this_week()), daily_smooth, ConstantVariable(0.0)), \n",
    "              RandomVariable('uniform', seed, 0.0, 3.0)\n",
    "             )\n",
    "plot_examples(business)"
   ]
  },
  {
   "cell_type": "markdown",
   "id": "a7bc0242",
   "metadata": {},
   "source": [
    "# Basic Use Cases"
   ]
  },
  {
   "cell_type": "markdown",
   "id": "01d1eb63",
   "metadata": {},
   "source": [
    "## Test Harness for Model Correctness\n",
    "\n",
    "This is an example of testing a model from sklearn, to verify that it can learn the parameters of a normal distribution\n",
    "based on synthetic data generated by THANOS"
   ]
  },
  {
   "cell_type": "code",
   "execution_count": null,
   "id": "20e4cd8a",
   "metadata": {},
   "outputs": [],
   "source": [
    "import pytest\n",
    "import ipytest\n",
    "\n",
    "ipytest.autoconfig()"
   ]
  },
  {
   "cell_type": "code",
   "execution_count": null,
   "id": "138a82d8",
   "metadata": {},
   "outputs": [],
   "source": [
    "%%ipytest -qq -s\n",
    "seed = seeded_gen(np.random.randint(0, 2**32))\n",
    "\n",
    "@pytest.mark.repeat(1)\n",
    "@pytest.mark.parametrize(\"random_variable\", [RandomVariable(\"normal\", seed, ConstantVariable(RandomVariable(\"uniform\", seed, 0, 10)), 1.0)])\n",
    "@pytest.mark.parametrize(\"sample_count\", [1000, 10000, 100000])\n",
    "def test_GMM_fit(random_variable,sample_count):\n",
    "    import sklearn.mixture\n",
    "    gmm = sklearn.mixture.GaussianMixture()\n",
    "    a = np.fromiter(random_variable.reseed(seed), float, count=sample_count)\n",
    "    r = gmm.fit(a[:, np.newaxis])\n",
    "    assert np.isclose(r.means_[0,0], random_variable.params[0](), rtol=1e-1)\n",
    "    print(\"fit mean : %f, var : %f, true mean: %f\" % (r.means_[0, 0], r.covariances_[0, 0], random_variable.params[0]()))"
   ]
  },
  {
   "cell_type": "markdown",
   "id": "7ef5a3cc",
   "metadata": {},
   "source": [
    "## Anomaly Injection"
   ]
  },
  {
   "cell_type": "code",
   "execution_count": null,
   "id": "dff3c11c",
   "metadata": {},
   "outputs": [],
   "source": [
    "anomalies = BinMarkovAnomaly(seed, p_on = 0.001, p_off = 0.05) + ConstantVariable(3.0)\n",
    "plot_examples(anomalies, 3)"
   ]
  },
  {
   "cell_type": "markdown",
   "id": "f59b55fb",
   "metadata": {},
   "source": [
    "### Mixing it all together"
   ]
  },
  {
   "cell_type": "code",
   "execution_count": null,
   "id": "e1cec2f4",
   "metadata": {},
   "outputs": [],
   "source": [
    "composed_example = ReBasis(seeded_gen(123), np.array([[0.7, 0.2, 0.1], [0.7, 0.1, 0.2], [0.3, 0.4, 0.3], [0.1, 0.4, 0.5]]), [BinMarkovAnomaly(seeded_gen(123), p_on = 0.0001, p_off = 0.03), Y_smooth, trended])\n",
    "ds = SyntheticDataset(composed_example, seeded_gen(5678))\n",
    "animate_plot(ds, batch_size = 128, batch_count = 30)"
   ]
  },
  {
   "cell_type": "code",
   "execution_count": null,
   "id": "839f6936",
   "metadata": {},
   "outputs": [],
   "source": [
    "print(ds.anomalies())"
   ]
  },
  {
   "cell_type": "markdown",
   "id": "076be3b0",
   "metadata": {},
   "source": [
    "# Advanced Signal Examples\n",
    "\n",
    "These examples are from the public service now documentation of signal classification as documented in [ITOM-Health](https://docs.servicenow.com/bundle/quebec-it-operations-management/page/product/event-management/concept/operational-intelligence-overview.html)"
   ]
  },
  {
   "cell_type": "markdown",
   "id": "55acb73d",
   "metadata": {},
   "source": [
    "## Positive Clipped Noisy"
   ]
  },
  {
   "cell_type": "code",
   "execution_count": null,
   "id": "14575a26",
   "metadata": {},
   "outputs": [],
   "source": [
    "positive_clipped_noisy = RandomVariable('gamma', seed, 2.0, 3.0).apply(np.clip, 10, np.inf)\n",
    "plot_examples(positive_clipped_noisy)"
   ]
  },
  {
   "cell_type": "markdown",
   "id": "c7ef73dd",
   "metadata": {},
   "source": [
    "## Centered Noisy (bounded)"
   ]
  },
  {
   "cell_type": "code",
   "execution_count": null,
   "id": "1d8e1f74",
   "metadata": {},
   "outputs": [],
   "source": [
    "plot_examples(RandomVariable('uniform', seed, 2.0, 7.0))"
   ]
  },
  {
   "cell_type": "markdown",
   "id": "7049f57a",
   "metadata": {},
   "source": [
    "# Skewed Noisy (bounded, biased)"
   ]
  },
  {
   "cell_type": "code",
   "execution_count": null,
   "id": "f7b897d5",
   "metadata": {},
   "outputs": [],
   "source": [
    "plot_examples(RandomVariable('gamma', seed, 2.0, 3.0).apply(np.clip, 4, 18))"
   ]
  },
  {
   "cell_type": "markdown",
   "id": "6db5f397",
   "metadata": {},
   "source": [
    "## Accumulator"
   ]
  },
  {
   "cell_type": "code",
   "execution_count": null,
   "id": "ba6e74cb",
   "metadata": {},
   "outputs": [],
   "source": [
    "accumulator = Trend(rate=1, initial_value=ConstantVariable(RandomVariable('uniform', seed, 0, 2000)), maximum=ConstantVariable(RandomVariable('uniform', seed, 1500, 2000)), minimum=20)\n",
    "plot_examples(accumulator)"
   ]
  },
  {
   "cell_type": "markdown",
   "id": "c0853a92",
   "metadata": {},
   "source": [
    "## MultiNomial"
   ]
  },
  {
   "cell_type": "code",
   "execution_count": null,
   "id": "90aaef37",
   "metadata": {},
   "outputs": [],
   "source": [
    "statecount = 4\n",
    "plot_examples(StateSelector(RandomVariable('gamma', seed, 1, 2)*10,\n",
    "                            RandomVariable('integers', seed, 0, statecount),\n",
    "                            [ConstantVariable(RandomVariable('uniform', seed, 0, 100)) for i in range(statecount) ]),\n",
    "              3)"
   ]
  },
  {
   "cell_type": "markdown",
   "id": "f225e551",
   "metadata": {},
   "source": [
    "# Model Uncertainty As Training Progresses"
   ]
  },
  {
   "cell_type": "code",
   "execution_count": null,
   "id": "eea853c1",
   "metadata": {},
   "outputs": [],
   "source": []
  }
 ],
 "metadata": {
  "kernelspec": {
   "display_name": "devenv",
   "language": "python",
   "name": "devenv"
  },
  "language_info": {
   "codemirror_mode": {
    "name": "ipython",
    "version": 3
   },
   "file_extension": ".py",
   "mimetype": "text/x-python",
   "name": "python",
   "nbconvert_exporter": "python",
   "pygments_lexer": "ipython3",
   "version": "3.8.6"
  }
 },
 "nbformat": 4,
 "nbformat_minor": 5
}
